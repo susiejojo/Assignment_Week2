{
 "cells": [
  {
   "cell_type": "code",
   "execution_count": 2,
   "metadata": {},
   "outputs": [],
   "source": [
    "import pandas as pd\n",
    "import matplotlib.pyplot as plt\n",
    "import matplotlib.axes as ax"
   ]
  },
  {
   "cell_type": "code",
   "execution_count": 3,
   "metadata": {},
   "outputs": [],
   "source": [
    "cols=['Transaction ID','Price','Date of Transfer','Postcode','PType','Old/New','Duration','PAON','SAON','Street','Locality','City','District','County','PPDCat','RecStats']\n",
    "houses=pd.read_csv(\"houses.csv\",header=None,names=cols)"
   ]
  },
  {
   "cell_type": "code",
   "execution_count": 4,
   "metadata": {},
   "outputs": [
    {
     "data": {
      "text/html": [
       "<div>\n",
       "<style scoped>\n",
       "    .dataframe tbody tr th:only-of-type {\n",
       "        vertical-align: middle;\n",
       "    }\n",
       "\n",
       "    .dataframe tbody tr th {\n",
       "        vertical-align: top;\n",
       "    }\n",
       "\n",
       "    .dataframe thead th {\n",
       "        text-align: right;\n",
       "    }\n",
       "</style>\n",
       "<table border=\"1\" class=\"dataframe\">\n",
       "  <thead>\n",
       "    <tr style=\"text-align: right;\">\n",
       "      <th></th>\n",
       "      <th>Transaction ID</th>\n",
       "      <th>Price</th>\n",
       "      <th>Date of Transfer</th>\n",
       "      <th>Postcode</th>\n",
       "      <th>PType</th>\n",
       "      <th>Old/New</th>\n",
       "      <th>Duration</th>\n",
       "      <th>PAON</th>\n",
       "      <th>SAON</th>\n",
       "      <th>Street</th>\n",
       "      <th>Locality</th>\n",
       "      <th>City</th>\n",
       "      <th>District</th>\n",
       "      <th>County</th>\n",
       "      <th>PPDCat</th>\n",
       "      <th>RecStats</th>\n",
       "    </tr>\n",
       "  </thead>\n",
       "  <tbody>\n",
       "    <tr>\n",
       "      <th>0</th>\n",
       "      <td>{02A6460F-C1F3-4977-B7ED-2A77C79302AE}</td>\n",
       "      <td>52000</td>\n",
       "      <td>2001-12-07 00:00</td>\n",
       "      <td>DE6 1BL</td>\n",
       "      <td>S</td>\n",
       "      <td>N</td>\n",
       "      <td>F</td>\n",
       "      <td>1A</td>\n",
       "      <td>NaN</td>\n",
       "      <td>OLD HILL</td>\n",
       "      <td>ASHBOURNE</td>\n",
       "      <td>ASHBOURNE</td>\n",
       "      <td>DERBYSHIRE DALES</td>\n",
       "      <td>DERBYSHIRE</td>\n",
       "      <td>A</td>\n",
       "      <td>A</td>\n",
       "    </tr>\n",
       "    <tr>\n",
       "      <th>1</th>\n",
       "      <td>{5EEB0C41-09F5-4BDF-A73E-A4E72E20BFC4}</td>\n",
       "      <td>57000</td>\n",
       "      <td>2003-09-12 00:00</td>\n",
       "      <td>B36 0RA</td>\n",
       "      <td>T</td>\n",
       "      <td>N</td>\n",
       "      <td>F</td>\n",
       "      <td>44</td>\n",
       "      <td>NaN</td>\n",
       "      <td>GREENFINCH ROAD</td>\n",
       "      <td>BIRMINGHAM</td>\n",
       "      <td>BIRMINGHAM</td>\n",
       "      <td>SOLIHULL</td>\n",
       "      <td>WEST MIDLANDS</td>\n",
       "      <td>A</td>\n",
       "      <td>A</td>\n",
       "    </tr>\n",
       "    <tr>\n",
       "      <th>2</th>\n",
       "      <td>{09975216-3588-418C-B6C5-A5704B0E77DE}</td>\n",
       "      <td>69500</td>\n",
       "      <td>2005-12-21 00:00</td>\n",
       "      <td>OL16 2XR</td>\n",
       "      <td>T</td>\n",
       "      <td>N</td>\n",
       "      <td>L</td>\n",
       "      <td>143</td>\n",
       "      <td>NaN</td>\n",
       "      <td>BELFIELD ROAD</td>\n",
       "      <td>ROCHDALE</td>\n",
       "      <td>ROCHDALE</td>\n",
       "      <td>ROCHDALE</td>\n",
       "      <td>GREATER MANCHESTER</td>\n",
       "      <td>A</td>\n",
       "      <td>A</td>\n",
       "    </tr>\n",
       "    <tr>\n",
       "      <th>3</th>\n",
       "      <td>{44CB83B9-0EC3-48D4-9B8D-B34D13D3C09E}</td>\n",
       "      <td>84000</td>\n",
       "      <td>2001-01-31 00:00</td>\n",
       "      <td>SN1 4LJ</td>\n",
       "      <td>T</td>\n",
       "      <td>N</td>\n",
       "      <td>F</td>\n",
       "      <td>34</td>\n",
       "      <td>NaN</td>\n",
       "      <td>KINGSHILL ROAD</td>\n",
       "      <td>SWINDON</td>\n",
       "      <td>SWINDON</td>\n",
       "      <td>SWINDON</td>\n",
       "      <td>SWINDON</td>\n",
       "      <td>A</td>\n",
       "      <td>A</td>\n",
       "    </tr>\n",
       "    <tr>\n",
       "      <th>4</th>\n",
       "      <td>{74828706-CBFC-406D-B7B6-394B5863E22E}</td>\n",
       "      <td>110000</td>\n",
       "      <td>1998-02-27 00:00</td>\n",
       "      <td>OX3 8AJ</td>\n",
       "      <td>S</td>\n",
       "      <td>N</td>\n",
       "      <td>F</td>\n",
       "      <td>62</td>\n",
       "      <td>NaN</td>\n",
       "      <td>WHARTON ROAD</td>\n",
       "      <td>HEADINGTON</td>\n",
       "      <td>OXFORD</td>\n",
       "      <td>OXFORD</td>\n",
       "      <td>OXFORDSHIRE</td>\n",
       "      <td>A</td>\n",
       "      <td>A</td>\n",
       "    </tr>\n",
       "  </tbody>\n",
       "</table>\n",
       "</div>"
      ],
      "text/plain": [
       "                           Transaction ID   Price  Date of Transfer  Postcode  \\\n",
       "0  {02A6460F-C1F3-4977-B7ED-2A77C79302AE}   52000  2001-12-07 00:00   DE6 1BL   \n",
       "1  {5EEB0C41-09F5-4BDF-A73E-A4E72E20BFC4}   57000  2003-09-12 00:00   B36 0RA   \n",
       "2  {09975216-3588-418C-B6C5-A5704B0E77DE}   69500  2005-12-21 00:00  OL16 2XR   \n",
       "3  {44CB83B9-0EC3-48D4-9B8D-B34D13D3C09E}   84000  2001-01-31 00:00   SN1 4LJ   \n",
       "4  {74828706-CBFC-406D-B7B6-394B5863E22E}  110000  1998-02-27 00:00   OX3 8AJ   \n",
       "\n",
       "  PType Old/New Duration PAON SAON           Street    Locality        City  \\\n",
       "0     S       N        F   1A  NaN         OLD HILL   ASHBOURNE   ASHBOURNE   \n",
       "1     T       N        F   44  NaN  GREENFINCH ROAD  BIRMINGHAM  BIRMINGHAM   \n",
       "2     T       N        L  143  NaN    BELFIELD ROAD    ROCHDALE    ROCHDALE   \n",
       "3     T       N        F   34  NaN   KINGSHILL ROAD     SWINDON     SWINDON   \n",
       "4     S       N        F   62  NaN     WHARTON ROAD  HEADINGTON      OXFORD   \n",
       "\n",
       "           District              County PPDCat RecStats  \n",
       "0  DERBYSHIRE DALES          DERBYSHIRE      A        A  \n",
       "1          SOLIHULL       WEST MIDLANDS      A        A  \n",
       "2          ROCHDALE  GREATER MANCHESTER      A        A  \n",
       "3           SWINDON             SWINDON      A        A  \n",
       "4            OXFORD         OXFORDSHIRE      A        A  "
      ]
     },
     "execution_count": 4,
     "metadata": {},
     "output_type": "execute_result"
    }
   ],
   "source": [
    "houses.head()"
   ]
  },
  {
   "cell_type": "code",
   "execution_count": 5,
   "metadata": {},
   "outputs": [
    {
     "data": {
      "text/plain": [
       "count    1.000000e+05\n",
       "mean     1.743868e+05\n",
       "std      3.514634e+05\n",
       "min      1.500000e+02\n",
       "25%      7.400000e+04\n",
       "50%      1.290000e+05\n",
       "75%      2.070000e+05\n",
       "max      4.846572e+07\n",
       "Name: Price, dtype: float64"
      ]
     },
     "execution_count": 5,
     "metadata": {},
     "output_type": "execute_result"
    }
   ],
   "source": [
    "houses.Price.describe()"
   ]
  },
  {
   "cell_type": "code",
   "execution_count": null,
   "metadata": {},
   "outputs": [],
   "source": [
    "axes = plt.gca()\n",
    "axes.set_xlim([10000,5000000])\n",
    "axes.set_ylim([0,10])\n",
    "plt.hist(houses['Price'],bins=10)"
   ]
  },
  {
   "cell_type": "code",
   "execution_count": 12,
   "metadata": {},
   "outputs": [
    {
     "data": {
      "image/png": "[encoded data removed]",
      "text/plain": [
       "<Figure size 432x288 with 1 Axes>"
      ]
     },
     "metadata": {
      "needs_background": "light"
     },
     "output_type": "display_data"
    }
   ],
   "source": [
    "b=houses[houses['City']==\"LONDON\"]\n",
    "plt.hist(b['Price'])\n",
    "plt.show()"
   ]
  },
  {
   "cell_type": "code",
   "execution_count": 20,
   "metadata": {},
   "outputs": [
    {
     "data": {
      "image/png": "[encoded data removed]",
      "text/plain": [
       "<Figure size 432x288 with 1 Axes>"
      ]
     },
     "metadata": {
      "needs_background": "light"
     },
     "output_type": "display_data"
    }
   ],
   "source": [
    "b=houses[houses['City']!=\"LONDON\"]\n",
    "plt.hist(b['Price'],100,histtype=\"bar\",rwidth=50)\n",
    "plt.show()"
   ]
  },
  {
   "cell_type": "code",
   "execution_count": null,
   "metadata": {},
   "outputs": [],
   "source": []
  }
 ],
 "metadata": {
  "kernelspec": {
   "display_name": "Python 3",
   "language": "python",
   "name": "python3"
  },
  "language_info": {
   "codemirror_mode": {
    "name": "ipython",
    "version": 3
   },
   "file_extension": ".py",
   "mimetype": "text/x-python",
   "name": "python",
   "nbconvert_exporter": "python",
   "pygments_lexer": "ipython3",
   "version": "3.6.7"
  }
 },
 "nbformat": 4,
 "nbformat_minor": 2
}

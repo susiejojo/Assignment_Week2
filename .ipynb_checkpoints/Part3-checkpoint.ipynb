{
 "cells": [
  {
   "cell_type": "markdown",
   "metadata": {},
   "source": [
    "### The persistent student"
   ]
  },
  {
   "cell_type": "code",
   "execution_count": 4,
   "metadata": {},
   "outputs": [],
   "source": [
    "import pandas as pd"
   ]
  },
  {
   "cell_type": "code",
   "execution_count": 5,
   "metadata": {},
   "outputs": [],
   "source": [
    "import numpy as np\n",
    "import matplotlib.pyplot as plt"
   ]
  },
  {
   "cell_type": "code",
   "execution_count": 29,
   "metadata": {},
   "outputs": [
    {
     "data": {
      "text/plain": [
       "array([2, 2, 1, ..., 3, 1, 8])"
      ]
     },
     "execution_count": 29,
     "metadata": {},
     "output_type": "execute_result"
    }
   ],
   "source": [
    "def no_of_attempts(p_pass):\n",
    "     z = np.random.geometric(p=p_pass, size=10000)\n",
    "     return z\n",
    "a=no_of_attempts(0.4)\n",
    "a"
   ]
  },
  {
   "cell_type": "code",
   "execution_count": 30,
   "metadata": {},
   "outputs": [
    {
     "data": {
      "text/plain": [
       "(array([6.464e+03, 2.233e+03, 8.290e+02, 3.070e+02, 6.400e+01, 6.700e+01,\n",
       "        2.200e+01, 1.100e+01, 0.000e+00, 3.000e+00]),\n",
       " array([ 1. ,  2.8,  4.6,  6.4,  8.2, 10. , 11.8, 13.6, 15.4, 17.2, 19. ]),\n",
       " <a list of 10 Patch objects>)"
      ]
     },
     "execution_count": 30,
     "metadata": {},
     "output_type": "execute_result"
    },
    {
     "data": {
      "image/png": "[encoded data removed]",
      "text/plain": [
       "<Figure size 432x288 with 1 Axes>"
      ]
     },
     "metadata": {
      "needs_background": "light"
     },
     "output_type": "display_data"
    }
   ],
   "source": [
    "plt.hist(a)"
   ]
  },
  {
   "cell_type": "markdown",
   "metadata": {},
   "source": [
    "### Heights and weights"
   ]
  },
  {
   "cell_type": "code",
   "execution_count": 60,
   "metadata": {},
   "outputs": [],
   "source": [
    "male_weight=np.random.normal(90,10,25)\n",
    "male_height=np.random.normal(140,15,25)"
   ]
  },
  {
   "cell_type": "code",
   "execution_count": 59,
   "metadata": {},
   "outputs": [],
   "source": [
    "fmale_weight=np.random.normal(60,5,25)\n",
    "fmale_height=np.random.normal(195,10,25)"
   ]
  },
  {
   "cell_type": "code",
   "execution_count": 61,
   "metadata": {},
   "outputs": [],
   "source": [
    "gender=[]\n",
    "for i in range(20):\n",
    "    gender.append(\"M\")\n",
    "for i in range(30):\n",
    "    gender.append(\"F\")\n",
    "gen=pd.Series(gender,name=\"Gender\")\n",
    "weights=[]\n",
    "weights.extend(male_weight)\n",
    "weights.extend(fmale_weight)\n",
    "heights=[]\n",
    "heights.extend(male_height)\n",
    "heights.extend(fmale_height)\n",
    "df=pd.DataFrame({'Gender':gen,'Weights':weights,'Heights':heights})"
   ]
  },
  {
   "cell_type": "code",
   "execution_count": 66,
   "metadata": {},
   "outputs": [
    {
     "data": {
      "text/html": [
       "<div>\n",
       "<style scoped>\n",
       "    .dataframe tbody tr th:only-of-type {\n",
       "        vertical-align: middle;\n",
       "    }\n",
       "\n",
       "    .dataframe tbody tr th {\n",
       "        vertical-align: top;\n",
       "    }\n",
       "\n",
       "    .dataframe thead th {\n",
       "        text-align: right;\n",
       "    }\n",
       "</style>\n",
       "<table border=\"1\" class=\"dataframe\">\n",
       "  <thead>\n",
       "    <tr style=\"text-align: right;\">\n",
       "      <th></th>\n",
       "      <th>Gender</th>\n",
       "      <th>Weights</th>\n",
       "      <th>Heights</th>\n",
       "    </tr>\n",
       "  </thead>\n",
       "  <tbody>\n",
       "    <tr>\n",
       "      <th>0</th>\n",
       "      <td>F</td>\n",
       "      <td>67.606520</td>\n",
       "      <td>199.827377</td>\n",
       "    </tr>\n",
       "    <tr>\n",
       "      <th>1</th>\n",
       "      <td>M</td>\n",
       "      <td>88.753872</td>\n",
       "      <td>147.023655</td>\n",
       "    </tr>\n",
       "    <tr>\n",
       "      <th>2</th>\n",
       "      <td>F</td>\n",
       "      <td>66.438715</td>\n",
       "      <td>186.889914</td>\n",
       "    </tr>\n",
       "    <tr>\n",
       "      <th>3</th>\n",
       "      <td>F</td>\n",
       "      <td>57.259665</td>\n",
       "      <td>188.135442</td>\n",
       "    </tr>\n",
       "    <tr>\n",
       "      <th>4</th>\n",
       "      <td>M</td>\n",
       "      <td>94.588020</td>\n",
       "      <td>141.143045</td>\n",
       "    </tr>\n",
       "    <tr>\n",
       "      <th>5</th>\n",
       "      <td>M</td>\n",
       "      <td>83.331968</td>\n",
       "      <td>111.529953</td>\n",
       "    </tr>\n",
       "    <tr>\n",
       "      <th>6</th>\n",
       "      <td>M</td>\n",
       "      <td>86.370714</td>\n",
       "      <td>139.602477</td>\n",
       "    </tr>\n",
       "    <tr>\n",
       "      <th>7</th>\n",
       "      <td>F</td>\n",
       "      <td>81.544739</td>\n",
       "      <td>134.829793</td>\n",
       "    </tr>\n",
       "    <tr>\n",
       "      <th>8</th>\n",
       "      <td>F</td>\n",
       "      <td>57.975514</td>\n",
       "      <td>212.892056</td>\n",
       "    </tr>\n",
       "    <tr>\n",
       "      <th>9</th>\n",
       "      <td>M</td>\n",
       "      <td>75.492503</td>\n",
       "      <td>131.095336</td>\n",
       "    </tr>\n",
       "    <tr>\n",
       "      <th>10</th>\n",
       "      <td>F</td>\n",
       "      <td>59.056973</td>\n",
       "      <td>214.598924</td>\n",
       "    </tr>\n",
       "    <tr>\n",
       "      <th>11</th>\n",
       "      <td>M</td>\n",
       "      <td>95.272610</td>\n",
       "      <td>137.898009</td>\n",
       "    </tr>\n",
       "    <tr>\n",
       "      <th>12</th>\n",
       "      <td>F</td>\n",
       "      <td>56.215615</td>\n",
       "      <td>200.364441</td>\n",
       "    </tr>\n",
       "    <tr>\n",
       "      <th>13</th>\n",
       "      <td>M</td>\n",
       "      <td>94.515534</td>\n",
       "      <td>135.603759</td>\n",
       "    </tr>\n",
       "    <tr>\n",
       "      <th>14</th>\n",
       "      <td>F</td>\n",
       "      <td>50.017140</td>\n",
       "      <td>201.773532</td>\n",
       "    </tr>\n",
       "    <tr>\n",
       "      <th>15</th>\n",
       "      <td>M</td>\n",
       "      <td>88.152144</td>\n",
       "      <td>137.896485</td>\n",
       "    </tr>\n",
       "    <tr>\n",
       "      <th>16</th>\n",
       "      <td>F</td>\n",
       "      <td>65.217794</td>\n",
       "      <td>190.822388</td>\n",
       "    </tr>\n",
       "    <tr>\n",
       "      <th>17</th>\n",
       "      <td>F</td>\n",
       "      <td>56.569429</td>\n",
       "      <td>187.261924</td>\n",
       "    </tr>\n",
       "    <tr>\n",
       "      <th>18</th>\n",
       "      <td>F</td>\n",
       "      <td>58.910811</td>\n",
       "      <td>216.447035</td>\n",
       "    </tr>\n",
       "    <tr>\n",
       "      <th>19</th>\n",
       "      <td>M</td>\n",
       "      <td>73.905029</td>\n",
       "      <td>124.550008</td>\n",
       "    </tr>\n",
       "    <tr>\n",
       "      <th>20</th>\n",
       "      <td>M</td>\n",
       "      <td>95.033385</td>\n",
       "      <td>153.266967</td>\n",
       "    </tr>\n",
       "    <tr>\n",
       "      <th>21</th>\n",
       "      <td>F</td>\n",
       "      <td>63.259408</td>\n",
       "      <td>199.720127</td>\n",
       "    </tr>\n",
       "    <tr>\n",
       "      <th>22</th>\n",
       "      <td>F</td>\n",
       "      <td>62.613196</td>\n",
       "      <td>189.198194</td>\n",
       "    </tr>\n",
       "    <tr>\n",
       "      <th>23</th>\n",
       "      <td>M</td>\n",
       "      <td>82.836414</td>\n",
       "      <td>117.235401</td>\n",
       "    </tr>\n",
       "    <tr>\n",
       "      <th>24</th>\n",
       "      <td>F</td>\n",
       "      <td>60.924120</td>\n",
       "      <td>187.384538</td>\n",
       "    </tr>\n",
       "    <tr>\n",
       "      <th>25</th>\n",
       "      <td>F</td>\n",
       "      <td>56.706663</td>\n",
       "      <td>205.447935</td>\n",
       "    </tr>\n",
       "    <tr>\n",
       "      <th>26</th>\n",
       "      <td>M</td>\n",
       "      <td>92.351823</td>\n",
       "      <td>124.597524</td>\n",
       "    </tr>\n",
       "    <tr>\n",
       "      <th>27</th>\n",
       "      <td>F</td>\n",
       "      <td>67.926030</td>\n",
       "      <td>189.256457</td>\n",
       "    </tr>\n",
       "    <tr>\n",
       "      <th>28</th>\n",
       "      <td>F</td>\n",
       "      <td>54.108520</td>\n",
       "      <td>187.704823</td>\n",
       "    </tr>\n",
       "    <tr>\n",
       "      <th>29</th>\n",
       "      <td>M</td>\n",
       "      <td>89.523779</td>\n",
       "      <td>146.934596</td>\n",
       "    </tr>\n",
       "    <tr>\n",
       "      <th>30</th>\n",
       "      <td>F</td>\n",
       "      <td>62.989258</td>\n",
       "      <td>203.421557</td>\n",
       "    </tr>\n",
       "    <tr>\n",
       "      <th>31</th>\n",
       "      <td>M</td>\n",
       "      <td>95.363275</td>\n",
       "      <td>155.999208</td>\n",
       "    </tr>\n",
       "    <tr>\n",
       "      <th>32</th>\n",
       "      <td>M</td>\n",
       "      <td>94.454977</td>\n",
       "      <td>106.083433</td>\n",
       "    </tr>\n",
       "    <tr>\n",
       "      <th>33</th>\n",
       "      <td>F</td>\n",
       "      <td>90.628576</td>\n",
       "      <td>149.303450</td>\n",
       "    </tr>\n",
       "    <tr>\n",
       "      <th>34</th>\n",
       "      <td>F</td>\n",
       "      <td>89.632455</td>\n",
       "      <td>164.303875</td>\n",
       "    </tr>\n",
       "    <tr>\n",
       "      <th>35</th>\n",
       "      <td>M</td>\n",
       "      <td>83.346626</td>\n",
       "      <td>176.389469</td>\n",
       "    </tr>\n",
       "    <tr>\n",
       "      <th>36</th>\n",
       "      <td>F</td>\n",
       "      <td>58.849460</td>\n",
       "      <td>177.539150</td>\n",
       "    </tr>\n",
       "    <tr>\n",
       "      <th>37</th>\n",
       "      <td>M</td>\n",
       "      <td>87.398382</td>\n",
       "      <td>127.557878</td>\n",
       "    </tr>\n",
       "    <tr>\n",
       "      <th>38</th>\n",
       "      <td>M</td>\n",
       "      <td>94.825254</td>\n",
       "      <td>122.100143</td>\n",
       "    </tr>\n",
       "    <tr>\n",
       "      <th>39</th>\n",
       "      <td>F</td>\n",
       "      <td>58.995794</td>\n",
       "      <td>181.715374</td>\n",
       "    </tr>\n",
       "    <tr>\n",
       "      <th>40</th>\n",
       "      <td>F</td>\n",
       "      <td>66.079942</td>\n",
       "      <td>181.187317</td>\n",
       "    </tr>\n",
       "    <tr>\n",
       "      <th>41</th>\n",
       "      <td>M</td>\n",
       "      <td>100.006308</td>\n",
       "      <td>148.207134</td>\n",
       "    </tr>\n",
       "    <tr>\n",
       "      <th>42</th>\n",
       "      <td>F</td>\n",
       "      <td>91.659958</td>\n",
       "      <td>135.171493</td>\n",
       "    </tr>\n",
       "    <tr>\n",
       "      <th>43</th>\n",
       "      <td>F</td>\n",
       "      <td>54.119818</td>\n",
       "      <td>208.295768</td>\n",
       "    </tr>\n",
       "    <tr>\n",
       "      <th>44</th>\n",
       "      <td>F</td>\n",
       "      <td>62.292833</td>\n",
       "      <td>188.687676</td>\n",
       "    </tr>\n",
       "    <tr>\n",
       "      <th>45</th>\n",
       "      <td>F</td>\n",
       "      <td>94.130770</td>\n",
       "      <td>140.813555</td>\n",
       "    </tr>\n",
       "    <tr>\n",
       "      <th>46</th>\n",
       "      <td>M</td>\n",
       "      <td>87.165091</td>\n",
       "      <td>97.403717</td>\n",
       "    </tr>\n",
       "    <tr>\n",
       "      <th>47</th>\n",
       "      <td>F</td>\n",
       "      <td>50.140508</td>\n",
       "      <td>188.288877</td>\n",
       "    </tr>\n",
       "    <tr>\n",
       "      <th>48</th>\n",
       "      <td>F</td>\n",
       "      <td>58.391835</td>\n",
       "      <td>210.301673</td>\n",
       "    </tr>\n",
       "    <tr>\n",
       "      <th>49</th>\n",
       "      <td>F</td>\n",
       "      <td>62.899223</td>\n",
       "      <td>195.194296</td>\n",
       "    </tr>\n",
       "  </tbody>\n",
       "</table>\n",
       "</div>"
      ],
      "text/plain": [
       "   Gender     Weights     Heights\n",
       "0       F   67.606520  199.827377\n",
       "1       M   88.753872  147.023655\n",
       "2       F   66.438715  186.889914\n",
       "3       F   57.259665  188.135442\n",
       "4       M   94.588020  141.143045\n",
       "5       M   83.331968  111.529953\n",
       "6       M   86.370714  139.602477\n",
       "7       F   81.544739  134.829793\n",
       "8       F   57.975514  212.892056\n",
       "9       M   75.492503  131.095336\n",
       "10      F   59.056973  214.598924\n",
       "11      M   95.272610  137.898009\n",
       "12      F   56.215615  200.364441\n",
       "13      M   94.515534  135.603759\n",
       "14      F   50.017140  201.773532\n",
       "15      M   88.152144  137.896485\n",
       "16      F   65.217794  190.822388\n",
       "17      F   56.569429  187.261924\n",
       "18      F   58.910811  216.447035\n",
       "19      M   73.905029  124.550008\n",
       "20      M   95.033385  153.266967\n",
       "21      F   63.259408  199.720127\n",
       "22      F   62.613196  189.198194\n",
       "23      M   82.836414  117.235401\n",
       "24      F   60.924120  187.384538\n",
       "25      F   56.706663  205.447935\n",
       "26      M   92.351823  124.597524\n",
       "27      F   67.926030  189.256457\n",
       "28      F   54.108520  187.704823\n",
       "29      M   89.523779  146.934596\n",
       "30      F   62.989258  203.421557\n",
       "31      M   95.363275  155.999208\n",
       "32      M   94.454977  106.083433\n",
       "33      F   90.628576  149.303450\n",
       "34      F   89.632455  164.303875\n",
       "35      M   83.346626  176.389469\n",
       "36      F   58.849460  177.539150\n",
       "37      M   87.398382  127.557878\n",
       "38      M   94.825254  122.100143\n",
       "39      F   58.995794  181.715374\n",
       "40      F   66.079942  181.187317\n",
       "41      M  100.006308  148.207134\n",
       "42      F   91.659958  135.171493\n",
       "43      F   54.119818  208.295768\n",
       "44      F   62.292833  188.687676\n",
       "45      F   94.130770  140.813555\n",
       "46      M   87.165091   97.403717\n",
       "47      F   50.140508  188.288877\n",
       "48      F   58.391835  210.301673\n",
       "49      F   62.899223  195.194296"
      ]
     },
     "execution_count": 66,
     "metadata": {},
     "output_type": "execute_result"
    }
   ],
   "source": [
    "df = df.sample(frac=1).reset_index(drop=True)\n",
    "df"
   ]
  },
  {
   "cell_type": "code",
   "execution_count": 67,
   "metadata": {},
   "outputs": [
    {
     "data": {
      "text/plain": [
       "<matplotlib.collections.PathCollection at 0x7f96f08e12b0>"
      ]
     },
     "execution_count": 67,
     "metadata": {},
     "output_type": "execute_result"
    },
    {
     "data": {
      "image/png": "[encoded data removed]",
      "text/plain": [
       "<Figure size 432x288 with 1 Axes>"
      ]
     },
     "metadata": {
      "needs_background": "light"
     },
     "output_type": "display_data"
    }
   ],
   "source": [
    "plt.scatter(df['Gender'],df['Weights'])"
   ]
  },
  {
   "cell_type": "code",
   "execution_count": 68,
   "metadata": {},
   "outputs": [
    {
     "data": {
      "text/plain": [
       "<matplotlib.collections.PathCollection at 0x7f96f089b940>"
      ]
     },
     "execution_count": 68,
     "metadata": {},
     "output_type": "execute_result"
    },
    {
     "data": {
      "image/png": "[encoded data removed]",
      "text/plain": [
       "<Figure size 432x288 with 1 Axes>"
      ]
     },
     "metadata": {
      "needs_background": "light"
     },
     "output_type": "display_data"
    }
   ],
   "source": [
    "plt.scatter(df['Gender'],df['Heights'])"
   ]
  },
  {
   "cell_type": "code",
   "execution_count": null,
   "metadata": {},
   "outputs": [],
   "source": []
  }
 ],
 "metadata": {
  "kernelspec": {
   "display_name": "Python 3",
   "language": "python",
   "name": "python3"
  },
  "language_info": {
   "codemirror_mode": {
    "name": "ipython",
    "version": 3
   },
   "file_extension": ".py",
   "mimetype": "text/x-python",
   "name": "python",
   "nbconvert_exporter": "python",
   "pygments_lexer": "ipython3",
   "version": "3.6.7"
  }
 },
 "nbformat": 4,
 "nbformat_minor": 2
}
